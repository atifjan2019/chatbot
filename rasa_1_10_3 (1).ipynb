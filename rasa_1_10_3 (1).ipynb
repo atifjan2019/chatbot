{
  "cells": [
    {
      "cell_type": "code",
      "execution_count": null,
      "metadata": {
        "id": "REIAqnqRVEbT"
      },
      "outputs": [],
      "source": [
        "!pip install rasa==1.10.3"
      ]
    },
    {
      "cell_type": "code",
      "execution_count": null,
      "metadata": {
        "id": "ptLRsug_Vx2E"
      },
      "outputs": [],
      "source": [
        "!python -m spacy download en"
      ]
    },
    {
      "cell_type": "code",
      "execution_count": null,
      "metadata": {
        "id": "dDcsEY3xV1oZ"
      },
      "outputs": [],
      "source": [
        "!pip install nest_asyncio==1.3.3"
      ]
    },
    {
      "cell_type": "code",
      "execution_count": 4,
      "metadata": {
        "colab": {
          "base_uri": "https://localhost:8080/"
        },
        "id": "nMGA5CJjV1rE",
        "outputId": "a805f1aa-c8e8-47d9-c38d-b56665222558"
      },
      "outputs": [
        {
          "output_type": "stream",
          "name": "stdout",
          "text": [
            "event loop ready\n"
          ]
        }
      ],
      "source": [
        "import os\n",
        "import rasa\n",
        "import nest_asyncio\n",
        "\n",
        "nest_asyncio.apply()\n",
        "\n",
        "print(\"event loop ready\")"
      ]
    },
    {
      "cell_type": "code",
      "execution_count": 5,
      "metadata": {
        "id": "vf9ZM70mV5vy"
      },
      "outputs": [],
      "source": [
        "from rasa.cli.scaffold import create_initial_project"
      ]
    },
    {
      "cell_type": "code",
      "execution_count": 6,
      "metadata": {
        "id": "ZZPCEdDBV9rS"
      },
      "outputs": [],
      "source": [
        "project='test_project'\n",
        "create_initial_project(project)"
      ]
    },
    {
      "cell_type": "code",
      "execution_count": 7,
      "metadata": {
        "id": "Ptb6tSUnquKK",
        "colab": {
          "base_uri": "https://localhost:8080/"
        },
        "outputId": "38e4ff91-aca0-4517-d0e1-6bdf2c823ccb"
      },
      "outputs": [
        {
          "output_type": "stream",
          "name": "stdout",
          "text": [
            "['config.yml', 'actions.py', '__pycache__', 'tests', 'endpoints.yml', '__init__.py', 'data', 'domain.yml', 'credentials.yml']\n"
          ]
        }
      ],
      "source": [
        "os.chdir(project)\n",
        "print(os.listdir(\".\"))"
      ]
    },
    {
      "cell_type": "code",
      "execution_count": 8,
      "metadata": {
        "colab": {
          "base_uri": "https://localhost:8080/"
        },
        "id": "nur0gARxV9w5",
        "outputId": "a3d89b0f-c99e-4f9d-f1a7-b93d0851a985"
      },
      "outputs": [
        {
          "output_type": "stream",
          "name": "stdout",
          "text": [
            "config.yml data/ domain.yml models/\n"
          ]
        }
      ],
      "source": [
        "config = \"config.yml\"\n",
        "training_files = \"data/\"\n",
        "domain = 'domain.yml'\n",
        "output = 'models/'\n",
        "print( config, training_files, domain, output)"
      ]
    },
    {
      "cell_type": "code",
      "execution_count": 10,
      "metadata": {
        "id": "rkucpZnXXyLZ",
        "colab": {
          "base_uri": "https://localhost:8080/"
        },
        "outputId": "ed5cae1b-c071-4556-81e5-e5c964562936"
      },
      "outputs": [
        {
          "output_type": "stream",
          "name": "stdout",
          "text": [
            "Overwriting data/nlu.md\n"
          ]
        }
      ],
      "source": [
        "%%writefile data/nlu.md\n",
        "\n",
        "## intent:clean_now\n",
        "- can you send someone right now\n",
        "- someone available now\n",
        "- right now please\n",
        "- please clean it right now\n",
        "\n",
        "## intent:clean\n",
        "- can you send someone to clean my Room\n",
        "- room service is available\n",
        "- i need to clean my room\n",
        "- room cleaning\n",
        "- clean my room\n",
        "\n",
        "## intent:deluxe\n",
        "- i need a deluxe room\n",
        "- deluxe room\n",
        "- i am looking for deluxe room\n",
        "- i want deluxe room\n",
        "- can i get the deluxe room\n",
        "\n",
        "## intent:simple\n",
        "- i need a simple room\n",
        "- simple room\n",
        "- i am looking for simple room\n",
        "- i want simple room\n",
        "- can i get the simple room\n",
        "\n",
        "## intent:num_room\n",
        "- i need [2](number) rooms\n",
        "- i need [3](number) rooms\n",
        "- i need whole floor\n",
        "- just [1](number) room\n",
        "- [2](number) rooms\n",
        "- only [2](number) rooms\n",
        "- [1](number) room\n",
        "\n",
        "## intent:book_room\n",
        "- i want to book a room\n",
        "- i need a room\n",
        "- can i get a room\n",
        "- room is available\n",
        "- i want a room\n",
        "- book a room\n",
        "- is room available\n",
        "\n",
        "## intent:greet\n",
        "- hey\n",
        "- hello\n",
        "- hi\n",
        "- good morning\n",
        "- good evening\n",
        "- hey there\n",
        "\n",
        "## intent:goodbye\n",
        "- bye\n",
        "- goodbye\n",
        "- see you around\n",
        "- see you later\n",
        "\n",
        "## intent:affirm\n",
        "- yes\n",
        "- indeed\n",
        "- of course\n",
        "- that sounds good\n",
        "- correct\n",
        "\n",
        "## intent:deny\n",
        "- no\n",
        "- never\n",
        "- I don't think so\n",
        "- don't like that\n",
        "- no way\n",
        "- not really\n",
        "\n",
        "## intent:mood_great\n",
        "- perfect\n",
        "- very good\n",
        "- great\n",
        "- amazing\n",
        "- wonderful\n",
        "- I am feeling very good\n",
        "- I am great\n",
        "- I'm good\n",
        "\n",
        "## intent:mood_unhappy\n",
        "- sad\n",
        "- very sad\n",
        "- unhappy\n",
        "- bad\n",
        "- very bad\n",
        "- awful\n",
        "- terrible\n",
        "- not very good\n",
        "- extremely sad\n",
        "- so sad\n",
        "\n",
        "## intent:bot_challenge\n",
        "- are you a bot?\n",
        "- are you a human?\n",
        "- am I talking to a bot?\n",
        "- am I talking to a human?\n"
      ]
    },
    {
      "cell_type": "code",
      "execution_count": 11,
      "metadata": {
        "id": "Hw_Upg4ebHjK",
        "colab": {
          "base_uri": "https://localhost:8080/"
        },
        "outputId": "8e899932-1041-4544-bfac-6d8f5ee159fb"
      },
      "outputs": [
        {
          "output_type": "stream",
          "name": "stdout",
          "text": [
            "Overwriting domain.yml\n"
          ]
        }
      ],
      "source": [
        "%%writefile domain.yml\n",
        "\n",
        "intents:\n",
        "  - greet\n",
        "  - goodbye\n",
        "  - affirm\n",
        "  - deny\n",
        "  - mood_great\n",
        "  - mood_unhappy\n",
        "  - bot_challenge\n",
        "  - book_room\n",
        "  - num_room\n",
        "  - simple\n",
        "  - deluxe\n",
        "  - clean\n",
        "  - clean_now\n",
        "\n",
        "responses:\n",
        "\n",
        "  utter_clean_now:\n",
        "  - text: \"sure, i am sending someone to clean your room\"\n",
        "\n",
        "  utter_clean:\n",
        "  - text: \"when should i arrange for the cleaning?\"\n",
        "\n",
        "  utter_deluxe:\n",
        "  - text: \"you have choosen to book a deluxe room.\"\n",
        "\n",
        "  utter_simple:\n",
        "  - text: \"you have choosen to book a simple room.\"\n",
        "\n",
        "  utter_num_room:\n",
        "  - text: \"What Kind of Room would you want to book - simple room or deluxe room ?\"\n",
        "\n",
        "  utter_book_room:\n",
        "  - text: \"How many room would you like to book ?\"\n",
        "\n",
        "  utter_greet:\n",
        "  - text: \"Hey! How are you?\"\n",
        "\n",
        "  utter_cheer_up:\n",
        "  - text: \"Here is something to cheer you up:\"\n",
        "    image: \"https://i.imgur.com/nGF1K8f.jpg\"\n",
        "\n",
        "  utter_did_that_help:\n",
        "  - text: \"Did that help you?\"\n",
        "\n",
        "  utter_happy:\n",
        "  - text: \"Great, carry on!\"\n",
        "\n",
        "  utter_goodbye:\n",
        "  - text: \"Bye\"\n",
        "\n",
        "  utter_iamabot:\n",
        "  - text: \"I am a bot, powered by Rasa.\"\n",
        "\n",
        "entities:\n",
        "  - number\n",
        "session_config:\n",
        "  session_expiration_time: 60\n",
        "  carry_over_slots_to_new_session: true\n"
      ]
    },
    {
      "cell_type": "code",
      "execution_count": 12,
      "metadata": {
        "id": "yQoD8c6phMbd",
        "colab": {
          "base_uri": "https://localhost:8080/"
        },
        "outputId": "7ebb7035-8f00-4223-c878-c55538df57a0"
      },
      "outputs": [
        {
          "output_type": "stream",
          "name": "stdout",
          "text": [
            "Overwriting data/stories.md\n"
          ]
        }
      ],
      "source": [
        "%%writefile data/stories.md\n",
        "\n",
        "## clean my room\n",
        "* greet\n",
        "  - utter_greet\n",
        "* clean\n",
        "  - utter_clean\n",
        "* clean_now\n",
        "  - utter_clean_now\n",
        "\n",
        "## booking simple room\n",
        "* greet\n",
        "  - utter_greet\n",
        "* book_room\n",
        "  - utter_book_room\n",
        "* num_room\n",
        "  - utter_num_room\n",
        "* simple\n",
        "  - utter_simple \n",
        "\n",
        "## booking deluxe room\n",
        "* greet\n",
        "  - utter_greet\n",
        "* book_room\n",
        "  - utter_book_room\n",
        "* num_room\n",
        "  - utter_num_room\n",
        "* deluxe\n",
        "  - utter_deluxe\n",
        "\n",
        "## happy path\n",
        "* greet\n",
        "  - utter_greet\n",
        "* mood_great\n",
        "  - utter_happy\n",
        "\n",
        "## sad path 1\n",
        "* greet\n",
        "  - utter_greet\n",
        "* mood_unhappy\n",
        "  - utter_cheer_up\n",
        "  - utter_did_that_help\n",
        "* affirm\n",
        "  - utter_happy\n",
        "\n",
        "## sad path 2\n",
        "* greet\n",
        "  - utter_greet\n",
        "* mood_unhappy\n",
        "  - utter_cheer_up\n",
        "  - utter_did_that_help\n",
        "* deny\n",
        "  - utter_goodbye\n",
        "\n",
        "## say goodbye\n",
        "* goodbye\n",
        "  - utter_goodbye\n",
        "\n",
        "## bot challenge\n",
        "* bot_challenge\n",
        "  - utter_iamabot\n"
      ]
    },
    {
      "cell_type": "code",
      "execution_count": 16,
      "metadata": {
        "id": "CBwR7LDAvoNq",
        "colab": {
          "base_uri": "https://localhost:8080/"
        },
        "outputId": "16e674b7-9a13-4201-b32b-af6f4a2e68c1"
      },
      "outputs": [
        {
          "output_type": "stream",
          "name": "stdout",
          "text": [
            "\u001b[94mTraining Core model...\u001b[0m\n"
          ]
        },
        {
          "output_type": "stream",
          "name": "stderr",
          "text": [
            "Processed Story Blocks: 100%|██████████| 8/8 [00:00<00:00, 389.10it/s, # trackers=1]\n",
            "Processed Story Blocks: 100%|██████████| 8/8 [00:00<00:00, 202.12it/s, # trackers=8]\n",
            "Processed Story Blocks: 100%|██████████| 8/8 [00:00<00:00, 37.27it/s, # trackers=27]\n",
            "Processed Story Blocks: 100%|██████████| 8/8 [00:00<00:00, 131.94it/s, # trackers=18]\n",
            "Processed trackers: 100%|██████████| 8/8 [00:00<00:00, 85.17it/s, # actions=28]\n",
            "Processed actions: 28it [00:00, 470.44it/s, # examples=28]\n",
            "Processed trackers: 100%|██████████| 404/404 [00:08<00:00, 46.14it/s, # actions=224]\n",
            "Epochs:   0%|          | 0/100 [00:00<?, ?it/s]/usr/local/lib/python3.7/dist-packages/rasa/utils/tensorflow/model_data.py:386: VisibleDeprecationWarning: Creating an ndarray from ragged nested sequences (which is a list-or-tuple of lists-or-tuples-or ndarrays with different lengths or shapes) is deprecated. If you meant to do this, you must specify 'dtype=object' when creating the ndarray\n",
            "  final_data[k].append(np.concatenate(np.array(v)))\n",
            "Epochs: 100%|██████████| 100/100 [00:25<00:00,  3.88it/s, t_loss=0.094, loss=0.007, acc=1.000]\n"
          ]
        },
        {
          "output_type": "stream",
          "name": "stdout",
          "text": [
            "\u001b[94mCore model training completed.\u001b[0m\n",
            "\u001b[94mTraining NLU model...\u001b[0m\n"
          ]
        },
        {
          "output_type": "stream",
          "name": "stderr",
          "text": [
            "/usr/local/lib/python3.7/dist-packages/rasa/nlu/classifiers/diet_classifier.py:595: VisibleDeprecationWarning: Creating an ndarray from ragged nested sequences (which is a list-or-tuple of lists-or-tuples-or ndarrays with different lengths or shapes) is deprecated. If you meant to do this, you must specify 'dtype=object' when creating the ndarray\n",
            "  for tag_name, tag_ids in tag_name_to_tag_ids.items()\n",
            "Epochs:   0%|          | 0/100 [00:00<?, ?it/s]/usr/local/lib/python3.7/dist-packages/rasa/utils/tensorflow/model_data.py:386: VisibleDeprecationWarning: Creating an ndarray from ragged nested sequences (which is a list-or-tuple of lists-or-tuples-or ndarrays with different lengths or shapes) is deprecated. If you meant to do this, you must specify 'dtype=object' when creating the ndarray\n",
            "  final_data[k].append(np.concatenate(np.array(v)))\n",
            "Epochs: 100%|██████████| 100/100 [00:27<00:00,  3.58it/s, t_loss=2.493, i_loss=0.874, entity_loss=0.013, i_acc=1.000, entity_f1=0.903]\n"
          ]
        },
        {
          "output_type": "stream",
          "name": "stdout",
          "text": [
            "\u001b[94mNLU model training completed.\u001b[0m\n",
            "\u001b[92mYour Rasa model is trained and saved at '/content/test_project/models/20220204-102958.tar.gz'.\u001b[0m\n",
            "models/20220204-102958.tar.gz\n"
          ]
        }
      ],
      "source": [
        "model_path = rasa.train(domain,config, [training_files], output)\n",
        "print(model_path)"
      ]
    },
    {
      "cell_type": "code",
      "execution_count": 17,
      "metadata": {
        "id": "jZXF6VOiwa6Y",
        "colab": {
          "base_uri": "https://localhost:8080/"
        },
        "outputId": "05773b58-d84d-4a9b-8afd-4fa14a7ce71c"
      },
      "outputs": [
        {
          "name": "stdout",
          "output_type": "stream",
          "text": [
            "WARNING:tensorflow:From /usr/local/lib/python3.7/dist-packages/tensorflow_core/python/ops/array_grad.py:563: _EagerTensorBase.cpu (from tensorflow.python.framework.ops) is deprecated and will be removed in a future version.\n",
            "Instructions for updating:\n",
            "Use tf.identity instead.\n",
            "Your bot is ready to talk! Type your messages here or send '/stop'.\n",
            "hi\n",
            "\u001b[92mHey! How are you?\u001b[0m\n",
            "i need a room\n",
            "\u001b[92mHow many room would you like to book ?\u001b[0m\n",
            "2 rooms\n",
            "\u001b[92mWhat Kind of Room would you want to book - simple room or deluxe room ?\u001b[0m\n",
            "deluxe room\n",
            "\u001b[92myou have choosen to book a deluxe room.\u001b[0m\n",
            "/stop\n"
          ]
        }
      ],
      "source": [
        "from rasa.jupyter import chat\n",
        "\n",
        "endpoints = 'endpoints.yml'\n",
        "\n",
        "chat(model_path, endpoints)"
      ]
    }
  ],
  "metadata": {
    "colab": {
      "collapsed_sections": [],
      "name": "rasa_1.10.3.ipynb",
      "provenance": []
    },
    "kernelspec": {
      "display_name": "Python 3",
      "name": "python3"
    },
    "language_info": {
      "name": "python"
    }
  },
  "nbformat": 4,
  "nbformat_minor": 0
}